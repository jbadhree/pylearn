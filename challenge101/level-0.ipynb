{
  "nbformat": 4,
  "nbformat_minor": 0,
  "metadata": {
    "colab": {
      "name": "Untitled0.ipynb",
      "version": "0.3.2",
      "provenance": [],
      "collapsed_sections": [],
      "include_colab_link": true
    },
    "kernelspec": {
      "name": "python3",
      "display_name": "Python 3"
    }
  },
  "cells": [
    {
      "cell_type": "markdown",
      "metadata": {
        "id": "view-in-github",
        "colab_type": "text"
      },
      "source": [
        "[View in Colaboratory](https://colab.research.google.com/github/jbadhree/pylearn/blob/master/challenge101/level-0.ipynb)"
      ]
    },
    {
      "metadata": {
        "id": "8KsKXi59DNI_",
        "colab_type": "text"
      },
      "cell_type": "markdown",
      "source": [
        "This is challenge level 0\n",
        "\n",
        "\n",
        "Goal - Generate random number between 0 and 9\n",
        "\n",
        "Condition - two lines of code"
      ]
    },
    {
      "metadata": {
        "id": "qjlLco68CRN7",
        "colab_type": "code",
        "colab": {
          "base_uri": "https://localhost:8080/",
          "height": 34
        },
        "outputId": "0a965ca6-aab2-4481-eb43-2d730472ac1c"
      },
      "cell_type": "code",
      "source": [
        "# Answer 1\n",
        "\n",
        "from random import randint\n",
        "print(randint(0, 9))"
      ],
      "execution_count": 0,
      "outputs": [
        {
          "output_type": "stream",
          "text": [
            "6\n"
          ],
          "name": "stdout"
        }
      ]
    },
    {
      "metadata": {
        "id": "m9fen1mqKKiR",
        "colab_type": "code",
        "colab": {
          "base_uri": "https://localhost:8080/",
          "height": 34
        },
        "outputId": "54f1872c-461e-4d36-c749-b6a7a8014b67"
      },
      "cell_type": "code",
      "source": [
        "from random import randint\n",
        "print(randint(0, 9))"
      ],
      "execution_count": 2,
      "outputs": [
        {
          "output_type": "stream",
          "text": [
            "2\n"
          ],
          "name": "stdout"
        }
      ]
    }
  ]
}